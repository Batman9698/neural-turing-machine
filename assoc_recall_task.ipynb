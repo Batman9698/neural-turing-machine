{
 "cells": [
  {
   "cell_type": "markdown",
   "metadata": {},
   "source": [
    "# Neural Turing Machine - Associative Recall Task Results\n",
    "### * Before running this notebook you'll need to train the NTM on the copy task.\n",
    "This notebook evaluates the NTM trained on an associative recall task. T"
   ]
  },
  {
   "cell_type": "code",
   "execution_count": 1,
   "metadata": {},
   "outputs": [],
   "source": [
    "import numpy as np\n",
    "import tensorflow as tf\n",
    "from src.tf.ntm import NTM"
   ]
  },
  {
   "cell_type": "code",
   "execution_count": 2,
   "metadata": {},
   "outputs": [],
   "source": [
    "ntm = NTM(external_output_size=18)"
   ]
  },
  {
   "cell_type": "markdown",
   "metadata": {},
   "source": [
    "### Create a test input"
   ]
  },
  {
   "cell_type": "code",
   "execution_count": 3,
   "metadata": {},
   "outputs": [
    {
     "name": "stdout",
     "output_type": "stream",
     "text": [
      "[array([[1, 1, 1],\n",
      "       [0, 1, 1],\n",
      "       [1, 1, 0],\n",
      "       [0, 1, 1],\n",
      "       [0, 1, 0],\n",
      "       [1, 1, 1]]), array([[0, 0, 0],\n",
      "       [1, 1, 0],\n",
      "       [1, 1, 0],\n",
      "       [1, 1, 1],\n",
      "       [0, 1, 1],\n",
      "       [1, 0, 1]]), array([[-1., -1., -1.],\n",
      "       [-1., -1., -1.],\n",
      "       [-1., -1., -1.],\n",
      "       [-1., -1., -1.],\n",
      "       [-1., -1., -1.],\n",
      "       [-1., -1., -1.]])]\n"
     ]
    }
   ],
   "source": [
    "length = np.random.randint(2, 7)\n",
    "seq = [np.random.randint(2, size=(6, 3)) for _ in range(length)]\n",
    "seq.append(np.ones(shape=(6, 3)) * -1)\n",
    "print(seq)"
   ]
  },
  {
   "cell_type": "markdown",
   "metadata": {},
   "source": [
    "### Load weights of the trained NTM model."
   ]
  },
  {
   "cell_type": "code",
   "execution_count": 4,
   "metadata": {},
   "outputs": [
    {
     "data": {
      "text/plain": [
       "<tensorflow.python.training.tracking.util.CheckpointLoadStatus at 0x7fac1f69f4d0>"
      ]
     },
     "execution_count": 4,
     "metadata": {},
     "output_type": "execute_result"
    }
   ],
   "source": [
    "ntm.load_weights('assoc_model/weights')"
   ]
  },
  {
   "cell_type": "markdown",
   "metadata": {},
   "source": [
    "### Reset the NTMs memory and feed it the test input"
   ]
  },
  {
   "cell_type": "code",
   "execution_count": 5,
   "metadata": {},
   "outputs": [
    {
     "name": "stdout",
     "output_type": "stream",
     "text": [
      "WARNING:tensorflow:Layer ntm is casting an input tensor from dtype float64 to the layer's dtype of float32, which is new behavior in TensorFlow 2.  The layer has dtype float32 because it's dtype defaults to floatx.\n",
      "\n",
      "If you intended to run this layer in float32, you can safely ignore this warning. If in doubt, this warning is likely only an issue if you are porting a TensorFlow 1.X model to TensorFlow 2.\n",
      "\n",
      "To change all layers to have dtype float64 by default, call `tf.keras.backend.set_floatx('float64')`. To change just this layer, pass dtype='float64' to the layer constructor. If you are the author of this layer, you can disable autocasting by passing autocast=False to the base Layer constructor.\n",
      "\n",
      "[[0 0 0]\n",
      " [1 1 0]\n",
      " [1 1 0]\n",
      " [1 1 1]\n",
      " [0 1 1]\n",
      " [1 0 1]]\n",
      "[[0 0 0]\n",
      " [0 1 0]\n",
      " [1 1 0]\n",
      " [0 0 0]\n",
      " [0 1 0]\n",
      " [0 0 0]]\n"
     ]
    }
   ],
   "source": [
    "ntm.reset()\n",
    "for item in seq:\n",
    "    ntm(tf.convert_to_tensor(item))\n",
    "\n",
    "query_i = np.random.randint(len(seq) - 2)\n",
    "query = seq[query_i]\n",
    "y_true = seq[query_i + 1]\n",
    "\n",
    "pred = ntm(query)\n",
    "pred = tf.nn.sigmoid(tf.reshape(pred, shape=(6, 3))).numpy()\n",
    "pred = np.round(pred).astype('int32')\n",
    "print(y_true)\n",
    "print(pred)"
   ]
  },
  {
   "cell_type": "code",
   "execution_count": null,
   "metadata": {},
   "outputs": [],
   "source": []
  }
 ],
 "metadata": {
  "kernelspec": {
   "display_name": "Python 3",
   "language": "python",
   "name": "python3"
  },
  "language_info": {
   "codemirror_mode": {
    "name": "ipython",
    "version": 3
   },
   "file_extension": ".py",
   "mimetype": "text/x-python",
   "name": "python",
   "nbconvert_exporter": "python",
   "pygments_lexer": "ipython3",
   "version": "3.7.4"
  }
 },
 "nbformat": 4,
 "nbformat_minor": 2
}
