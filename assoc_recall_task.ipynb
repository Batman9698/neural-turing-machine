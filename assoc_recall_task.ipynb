{
 "cells": [
  {
   "cell_type": "markdown",
   "metadata": {},
   "source": [
    "# Neural Turing Machine - Associative Recall Task Results\n",
    "### * Before running this notebook you'll need to train the NTM on the copy task.\n",
    "This notebook evaluates the NTM trained on an associative recall task. T"
   ]
  },
  {
   "cell_type": "code",
   "execution_count": 1,
   "metadata": {},
   "outputs": [],
   "source": [
    "import numpy as np\n",
    "import tensorflow as tf\n",
    "from src.tf.ntm import NTM\n",
    "\n",
    "tf.config.set_visible_devices([], 'GPU')"
   ]
  },
  {
   "cell_type": "code",
   "execution_count": 2,
   "metadata": {},
   "outputs": [],
   "source": [
    "ntm = NTM(external_output_size=18)"
   ]
  },
  {
   "cell_type": "markdown",
   "metadata": {},
   "source": [
    "### Create a test input"
   ]
  },
  {
   "cell_type": "code",
   "execution_count": 3,
   "metadata": {},
   "outputs": [
    {
     "name": "stdout",
     "output_type": "stream",
     "text": [
      "[array([[1, 0, 1],\n",
      "       [1, 0, 0],\n",
      "       [1, 0, 0],\n",
      "       [1, 1, 1],\n",
      "       [0, 1, 1],\n",
      "       [1, 1, 1]]), array([[1, 1, 1],\n",
      "       [0, 0, 0],\n",
      "       [0, 0, 1],\n",
      "       [1, 1, 0],\n",
      "       [1, 0, 0],\n",
      "       [0, 0, 0]]), array([[0, 0, 0],\n",
      "       [0, 1, 0],\n",
      "       [0, 1, 1],\n",
      "       [1, 1, 0],\n",
      "       [1, 1, 0],\n",
      "       [1, 0, 0]]), array([[-1., -1., -1.],\n",
      "       [-1., -1., -1.],\n",
      "       [-1., -1., -1.],\n",
      "       [-1., -1., -1.],\n",
      "       [-1., -1., -1.],\n",
      "       [-1., -1., -1.]])]\n"
     ]
    }
   ],
   "source": [
    "length = np.random.randint(2, 7)\n",
    "seq = [np.random.randint(2, size=(6, 3)) for _ in range(length)]\n",
    "seq.append(np.ones(shape=(6, 3)) * -1)\n",
    "print(seq)"
   ]
  },
  {
   "cell_type": "markdown",
   "metadata": {},
   "source": [
    "### Load weights of the trained NTM model."
   ]
  },
  {
   "cell_type": "code",
   "execution_count": 4,
   "metadata": {},
   "outputs": [
    {
     "data": {
      "text/plain": [
       "<tensorflow.python.training.tracking.util.CheckpointLoadStatus at 0x7fd128ba4310>"
      ]
     },
     "execution_count": 4,
     "metadata": {},
     "output_type": "execute_result"
    }
   ],
   "source": [
    "ntm.load_weights('assoc_model/weights')"
   ]
  },
  {
   "cell_type": "markdown",
   "metadata": {},
   "source": [
    "### Reset the NTMs memory and feed it the test input"
   ]
  },
  {
   "cell_type": "code",
   "execution_count": 5,
   "metadata": {},
   "outputs": [
    {
     "name": "stdout",
     "output_type": "stream",
     "text": [
      "[[0 0 0]\n",
      " [0 1 0]\n",
      " [0 1 1]\n",
      " [1 1 0]\n",
      " [1 1 0]\n",
      " [1 0 0]]\n",
      "[[0 0 0]\n",
      " [0 1 0]\n",
      " [0 1 1]\n",
      " [1 1 0]\n",
      " [1 1 0]\n",
      " [1 0 0]]\n"
     ]
    }
   ],
   "source": [
    "state = ntm.get_start_state()\n",
    "\n",
    "for item in seq:\n",
    "    _, state = ntm(tf.convert_to_tensor(item, dtype='float32'), state)\n",
    "\n",
    "query_i = np.random.randint(len(seq) - 2)\n",
    "query = seq[query_i]\n",
    "y_true = seq[query_i + 1]\n",
    "\n",
    "pred, _ = ntm(query, state)\n",
    "pred = tf.nn.sigmoid(tf.reshape(pred, shape=(6, 3))).numpy()\n",
    "pred = np.round(pred).astype('int32')\n",
    "print(y_true)\n",
    "print(pred)"
   ]
  },
  {
   "cell_type": "code",
   "execution_count": null,
   "metadata": {},
   "outputs": [],
   "source": []
  }
 ],
 "metadata": {
  "kernelspec": {
   "display_name": "Python 3",
   "language": "python",
   "name": "python3"
  },
  "language_info": {
   "codemirror_mode": {
    "name": "ipython",
    "version": 3
   },
   "file_extension": ".py",
   "mimetype": "text/x-python",
   "name": "python",
   "nbconvert_exporter": "python",
   "pygments_lexer": "ipython3",
   "version": "3.7.4"
  }
 },
 "nbformat": 4,
 "nbformat_minor": 2
}
